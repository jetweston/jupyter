{
 "cells": [
  {
   "cell_type": "code",
   "execution_count": 1,
   "id": "c91edaf7",
   "metadata": {},
   "outputs": [
    {
     "name": "stdout",
     "output_type": "stream",
     "text": [
      "{\n",
      "  \"translations\": [\n",
      "    {\n",
      "      \"translation\": \"hallo dort\"\n",
      "    }\n",
      "  ],\n",
      "  \"word_count\": 2,\n",
      "  \"character_count\": 11\n",
      "}\n"
     ]
    }
   ],
   "source": [
    "\"\"\"\n",
    "Watson English Translator \n",
    "usage: english_translator (\"phrase\", \"lang_code\")\n",
    "lang_code: https://cloud.ibm.com/docs/language-translator?topic=language-translator-translation-models\n",
    "\n",
    "\"\"\"\n",
    "\n",
    "import json\n",
    "from ibm_watson import LanguageTranslatorV3\n",
    "from ibm_cloud_sdk_core.authenticators import IAMAuthenticator\n",
    "\n",
    "\n",
    "authenticator = IAMAuthenticator('_RGvvH069aB_4DQRwGSbtk4bHw_Ve6nU-nIG0fAsxnrY')\n",
    "language_translator = LanguageTranslatorV3(\n",
    "    version='2018-05-01',\n",
    "    authenticator=authenticator\n",
    ")\n",
    "\n",
    "\n",
    "\"\"\"\n",
    "Watson Translator Funcitons\n",
    "\"\"\"\n",
    "\n",
    "def english_translator (phrase, lang):\n",
    "    language_translator.set_service_url('https://api.us-south.language-translator.watson.cloud.ibm.com/instances/8a27c819-013b-48fd-8a7b-da87005c11de')\n",
    "    translation = language_translator.translate(\n",
    "    text=phrase,\n",
    "    model_id=lang).get_result()\n",
    "    print(json.dumps(translation, indent=2, ensure_ascii=False))\n",
    "\n",
    "    \n",
    "english_translator (\"hello there\", \"en-de\") \n",
    "\n"
   ]
  },
  {
   "cell_type": "code",
   "execution_count": null,
   "id": "ce4bb73a",
   "metadata": {},
   "outputs": [],
   "source": []
  },
  {
   "cell_type": "code",
   "execution_count": null,
   "id": "f5a361cd",
   "metadata": {},
   "outputs": [],
   "source": []
  },
  {
   "cell_type": "code",
   "execution_count": null,
   "id": "790535d5",
   "metadata": {},
   "outputs": [],
   "source": []
  }
 ],
 "metadata": {
  "kernelspec": {
   "display_name": "Python 3",
   "language": "python",
   "name": "python3"
  },
  "language_info": {
   "codemirror_mode": {
    "name": "ipython",
    "version": 3
   },
   "file_extension": ".py",
   "mimetype": "text/x-python",
   "name": "python",
   "nbconvert_exporter": "python",
   "pygments_lexer": "ipython3",
   "version": "3.9.5"
  }
 },
 "nbformat": 4,
 "nbformat_minor": 5
}

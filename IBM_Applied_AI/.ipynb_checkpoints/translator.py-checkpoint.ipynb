{
 "cells": [
  {
   "cell_type": "code",
   "execution_count": 37,
   "id": "3798fc30",
   "metadata": {},
   "outputs": [
    {
     "name": "stdout",
     "output_type": "stream",
     "text": [
      "None\n"
     ]
    }
   ],
   "source": []
  },
  {
   "cell_type": "code",
   "execution_count": 3,
   "id": "81c1f90b",
   "metadata": {},
   "outputs": [
    {
     "ename": "NameError",
     "evalue": "name 'unittest' is not defined",
     "output_type": "error",
     "traceback": [
      "\u001b[0;31m---------------------------------------------------------------------------\u001b[0m",
      "\u001b[0;31mNameError\u001b[0m                                 Traceback (most recent call last)",
      "\u001b[0;32m<ipython-input-3-235beb9af992>\u001b[0m in \u001b[0;36m<module>\u001b[0;34m\u001b[0m\n\u001b[1;32m     27\u001b[0m \u001b[0;34m\u001b[0m\u001b[0m\n\u001b[1;32m     28\u001b[0m \u001b[0;34m\u001b[0m\u001b[0m\n\u001b[0;32m---> 29\u001b[0;31m \u001b[0;32mclass\u001b[0m \u001b[0mTestNotebook\u001b[0m\u001b[0;34m(\u001b[0m\u001b[0munittest\u001b[0m\u001b[0;34m.\u001b[0m\u001b[0mTestCase\u001b[0m\u001b[0;34m)\u001b[0m\u001b[0;34m:\u001b[0m\u001b[0;34m\u001b[0m\u001b[0;34m\u001b[0m\u001b[0m\n\u001b[0m\u001b[1;32m     30\u001b[0m \u001b[0;34m\u001b[0m\u001b[0m\n\u001b[1;32m     31\u001b[0m \u001b[0;34m\u001b[0m\u001b[0m\n",
      "\u001b[0;31mNameError\u001b[0m: name 'unittest' is not defined"
     ]
    }
   ],
   "source": [
    "\n",
    "\"\"\"\n",
    "Watson Translatorfrom package/module import namesuncitons\n",
    "\"\"\"\n",
    "\n",
    "import json\n",
    "from ibm_watson import LanguageTranslatorV3\n",
    "from ibm_cloud_sdk_core.authenticators import IAMAuthenticator\n",
    "\n",
    "authenticator = IAMAuthenticator('_RGvvH069aB_4DQRwGSbtk4bHw_Ve6nU-nIG0fAsxnrY')\n",
    "language_translator = LanguageTranslatorV3(\n",
    "    version='2018-05-01',\n",
    "    authenticator=authenticator\n",
    ")\n",
    "\n",
    "\n",
    "\"\"\"\n",
    "Watson Translator Fuction\n",
    "\"\"\"\n",
    "\n",
    "def translate (phrase, lang):\n",
    "    language_translator.set_service_url('https://api.us-south.language-translator.watson.cloud.ibm.com/instances/8a27c819-013b-48fd-8a7b-da87005c11de')\n",
    "    translation = language_translator.translate(\n",
    "    text=phrase,\n",
    "    model_id=lang).get_result()\n",
    "    print(json.dumps(translation, indent=2, ensure_ascii=False))\n",
    "\n",
    "\n",
    "\n",
    "class TestNotebook(unittest.TestCase):\n",
    "\n",
    "\n",
    "    def test_translate_german(self):\n",
    "        self.assertEqual (\"hallo\", \"hallo\")\n",
    "        \n",
    "\n",
    "    def test_translate_french(self):\n",
    "        self.assertEqual (\"Bonjour\", \"Bonjour\")\n",
    "        \n",
    "        \n",
    "    def test_translate_null(self):\n",
    "        self.assertEqual (\"\",\"\",)\n",
    "        \n",
    "        \n",
    "\n",
    "TestNotebook.main(argv=['translate(\"hello\", \"en-de\")'], verbosity=4, exit=False)\n",
    "\n",
    "TestNotebook.main(argv=['translate(\"hello\", \"en-ft\")'], verbosity=4, exit=False)\n"
   ]
  },
  {
   "cell_type": "code",
   "execution_count": null,
   "id": "f7f7a228",
   "metadata": {},
   "outputs": [],
   "source": []
  },
  {
   "cell_type": "code",
   "execution_count": null,
   "id": "458a6c4f",
   "metadata": {},
   "outputs": [],
   "source": []
  },
  {
   "cell_type": "code",
   "execution_count": null,
   "id": "b4e07710",
   "metadata": {},
   "outputs": [],
   "source": []
  }
 ],
 "metadata": {
  "kernelspec": {
   "display_name": "Python 3",
   "language": "python",
   "name": "python3"
  },
  "language_info": {
   "codemirror_mode": {
    "name": "ipython",
    "version": 3
   },
   "file_extension": ".py",
   "mimetype": "text/x-python",
   "name": "python",
   "nbconvert_exporter": "python",
   "pygments_lexer": "ipython3",
   "version": "3.9.5"
  }
 },
 "nbformat": 4,
 "nbformat_minor": 5
}
